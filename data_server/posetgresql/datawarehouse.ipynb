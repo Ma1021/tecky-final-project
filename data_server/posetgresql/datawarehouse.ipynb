{
 "cells": [
  {
   "cell_type": "code",
   "execution_count": 1,
   "metadata": {},
   "outputs": [],
   "source": [
    "import psycopg2"
   ]
  },
  {
   "cell_type": "code",
   "execution_count": 2,
   "metadata": {},
   "outputs": [],
   "source": [
    "hostname = '54.179.102.112'\n",
    "database = 'finalproject'\n",
    "username = 'finalproject'\n",
    "pwd = 'finalproject'\n",
    "port = 15432 "
   ]
  },
  {
   "cell_type": "code",
   "execution_count": 3,
   "metadata": {},
   "outputs": [],
   "source": [
    "hostname2 = '10.148.0.3'\n",
    "database2 = 'stockoverflow'\n",
    "username2 = 'stockoverflow'\n",
    "pwd2 = 'stockoverflow'\n",
    "port2 = 5432 "
   ]
  },
  {
   "cell_type": "code",
   "execution_count": 13,
   "metadata": {},
   "outputs": [],
   "source": [
    "conn = psycopg2.connect(\n",
    "    host = hostname,\n",
    "    dbname = database,\n",
    "    user = username,\n",
    "    password = pwd,\n",
    "    port = port\n",
    "    )\n",
    "cur = conn.cursor()"
   ]
  },
  {
   "cell_type": "code",
   "execution_count": 26,
   "metadata": {},
   "outputs": [],
   "source": [
    "conn2 = psycopg2.connect(\n",
    "    host = hostname2,\n",
    "    dbname = database2,\n",
    "    user = username2,\n",
    "    password = pwd2,\n",
    "    port = port2\n",
    "    )\n",
    "cur2 = conn2.cursor()"
   ]
  },
  {
   "cell_type": "code",
   "execution_count": 33,
   "metadata": {},
   "outputs": [],
   "source": [
    "#insert users"
   ]
  },
  {
   "cell_type": "code",
   "execution_count": 6,
   "metadata": {},
   "outputs": [
    {
     "name": "stdout",
     "output_type": "stream",
     "text": [
      "(2, '彭怡君', datetime.date(1970, 1, 25), 'F', datetime.datetime(2022, 12, 8, 11, 44, 42, 406373, tzinfo=datetime.timezone.utc))\n"
     ]
    }
   ],
   "source": [
    "cur.execute(\"SELECT id,username,birthday,gender,created_at FROM users\")\n",
    "records = cur.fetchall()\n",
    "print(records[0])"
   ]
  },
  {
   "cell_type": "code",
   "execution_count": 25,
   "metadata": {},
   "outputs": [
    {
     "ename": "IndexError",
     "evalue": "tuple index out of range",
     "output_type": "error",
     "traceback": [
      "\u001b[0;31m---------------------------------------------------------------------------\u001b[0m",
      "\u001b[0;31mIndexError\u001b[0m                                Traceback (most recent call last)",
      "Cell \u001b[0;32mIn [25], line 4\u001b[0m\n\u001b[1;32m      2\u001b[0m insert_value \u001b[39m=\u001b[39m records\n\u001b[1;32m      3\u001b[0m \u001b[39mfor\u001b[39;00m items \u001b[39min\u001b[39;00m insert_value:\n\u001b[0;32m----> 4\u001b[0m     cur2\u001b[39m.\u001b[39;49mexecute(insert_script, items)\n\u001b[1;32m      5\u001b[0m conn2\u001b[39m.\u001b[39mcommit()\n",
      "\u001b[0;31mIndexError\u001b[0m: tuple index out of range"
     ]
    }
   ],
   "source": [
    "insert_script = 'insert into users (id,username,birthday,gender,created_at) values (%s,%s,%s,%s,%s)'\n",
    "insert_value = records\n",
    "for items in insert_value:\n",
    "    cur2.execute(insert_script, items)\n",
    "conn2.commit()"
   ]
  },
  {
   "cell_type": "code",
   "execution_count": null,
   "metadata": {},
   "outputs": [],
   "source": [
    "#insert chatrooms"
   ]
  },
  {
   "cell_type": "code",
   "execution_count": 10,
   "metadata": {},
   "outputs": [
    {
     "name": "stdout",
     "output_type": "stream",
     "text": [
      "(1, 'user group 2', 2, datetime.datetime(2022, 12, 8, 11, 44, 46, 17903, tzinfo=datetime.timezone.utc))\n"
     ]
    }
   ],
   "source": [
    "cur.execute(\"SELECT id,name,host,created_at FROM chatrooms\")\n",
    "records = cur.fetchall()\n",
    "print(records[0])"
   ]
  },
  {
   "cell_type": "code",
   "execution_count": 11,
   "metadata": {},
   "outputs": [],
   "source": [
    "insert_script = 'insert into chatrooms (id,name,host,created_at) values (%s,%s,%s,%s)'\n",
    "insert_value = records\n",
    "for items in insert_value:\n",
    "    cur2.execute(insert_script, items)\n",
    "conn2.commit()"
   ]
  },
  {
   "cell_type": "code",
   "execution_count": null,
   "metadata": {},
   "outputs": [],
   "source": [
    "#insert chatroom_record"
   ]
  },
  {
   "cell_type": "code",
   "execution_count": 15,
   "metadata": {},
   "outputs": [
    {
     "name": "stdout",
     "output_type": "stream",
     "text": [
      "(1, 1, 1, 'hi from 1', datetime.datetime(2022, 12, 8, 11, 44, 46, 135150, tzinfo=datetime.timezone.utc))\n"
     ]
    }
   ],
   "source": [
    "cur.execute('SELECT id,chatroom,\"user\",record,created_at FROM chatroom_record')\n",
    "records = cur.fetchall()\n",
    "print(records[0])"
   ]
  },
  {
   "cell_type": "code",
   "execution_count": 16,
   "metadata": {},
   "outputs": [],
   "source": [
    "insert_script = 'insert into chatroom_record (id,chatroom,\"user\",record,created_at) values (%s,%s,%s,%s,%s)'\n",
    "insert_value = records\n",
    "for items in insert_value:\n",
    "    cur2.execute(insert_script, items)\n",
    "conn2.commit()"
   ]
  },
  {
   "cell_type": "code",
   "execution_count": null,
   "metadata": {},
   "outputs": [],
   "source": [
    "#insert chatroom_user"
   ]
  },
  {
   "cell_type": "code",
   "execution_count": 17,
   "metadata": {},
   "outputs": [
    {
     "name": "stdout",
     "output_type": "stream",
     "text": [
      "(1, 1, 1, datetime.datetime(2022, 12, 8, 11, 44, 46, 23134, tzinfo=datetime.timezone.utc))\n"
     ]
    }
   ],
   "source": [
    "cur.execute('SELECT id,member,chatroom,created_at FROM chatroom_user')\n",
    "records = cur.fetchall()\n",
    "print(records[0])"
   ]
  },
  {
   "cell_type": "code",
   "execution_count": 18,
   "metadata": {},
   "outputs": [],
   "source": [
    "insert_script = 'insert into chatroom_user (id,member,chatroom,created_at) values (%s,%s,%s,%s)'\n",
    "insert_value = records\n",
    "for items in insert_value:\n",
    "    cur2.execute(insert_script, items)\n",
    "conn2.commit()"
   ]
  },
  {
   "cell_type": "code",
   "execution_count": null,
   "metadata": {},
   "outputs": [],
   "source": [
    "#insert questions"
   ]
  },
  {
   "cell_type": "code",
   "execution_count": 19,
   "metadata": {},
   "outputs": [
    {
     "name": "stdout",
     "output_type": "stream",
     "text": [
      "(1, 9, '依隻可以買嗎？', 1, datetime.datetime(2022, 12, 8, 11, 44, 45, 790738, tzinfo=datetime.timezone.utc))\n"
     ]
    }
   ],
   "source": [
    "cur.execute('SELECT id,asker_id,content,tag_id,created_at FROM questions')\n",
    "records = cur.fetchall()\n",
    "print(records[0])"
   ]
  },
  {
   "cell_type": "code",
   "execution_count": 20,
   "metadata": {},
   "outputs": [],
   "source": [
    "insert_script = 'insert into questions (id,asker_id,content,tag_id,created_at) values (%s,%s,%s,%s,%s)'\n",
    "insert_value = records\n",
    "for items in insert_value:\n",
    "    cur2.execute(insert_script, items)\n",
    "conn2.commit()"
   ]
  },
  {
   "cell_type": "code",
   "execution_count": null,
   "metadata": {},
   "outputs": [],
   "source": [
    "#insert answers"
   ]
  },
  {
   "cell_type": "code",
   "execution_count": 21,
   "metadata": {},
   "outputs": [
    {
     "name": "stdout",
     "output_type": "stream",
     "text": [
      "(1, 1, 21, '玩過山車咁，一日天堂一日地獄', datetime.datetime(2022, 12, 8, 11, 44, 45, 793068, tzinfo=datetime.timezone.utc))\n"
     ]
    }
   ],
   "source": [
    "cur.execute('SELECT id,question_id,answerer_id,content,created_at FROM answers')\n",
    "records = cur.fetchall()\n",
    "print(records[0])"
   ]
  },
  {
   "cell_type": "code",
   "execution_count": 22,
   "metadata": {},
   "outputs": [],
   "source": [
    "insert_script = 'insert into answers (id,question_id,answerer_id,content,created_at) values (%s,%s,%s,%s,%s)'\n",
    "insert_value = records\n",
    "for items in insert_value:\n",
    "    cur2.execute(insert_script, items)\n",
    "conn2.commit()"
   ]
  },
  {
   "cell_type": "code",
   "execution_count": null,
   "metadata": {},
   "outputs": [],
   "source": [
    "#insert answers"
   ]
  },
  {
   "cell_type": "code",
   "execution_count": 23,
   "metadata": {},
   "outputs": [
    {
     "name": "stdout",
     "output_type": "stream",
     "text": [
      "(2, 24, 59)\n"
     ]
    }
   ],
   "source": [
    "cur.execute('SELECT id,user_id,answer_id FROM ans_likes')\n",
    "records = cur.fetchall()\n",
    "print(records[0])"
   ]
  },
  {
   "cell_type": "code",
   "execution_count": 27,
   "metadata": {},
   "outputs": [],
   "source": [
    "insert_script = 'insert into ans_likes (id,user_id,answer_id) values (%s,%s,%s)'\n",
    "insert_value = records\n",
    "for items in insert_value:\n",
    "    cur2.execute(insert_script, items)\n",
    "conn2.commit()"
   ]
  },
  {
   "cell_type": "code",
   "execution_count": null,
   "metadata": {},
   "outputs": [],
   "source": [
    "#insert stocks"
   ]
  },
  {
   "cell_type": "code",
   "execution_count": 28,
   "metadata": {},
   "outputs": [
    {
     "name": "stdout",
     "output_type": "stream",
     "text": [
      "(1, 'BTLLF', 'North Peak Resources Ltd.')\n"
     ]
    }
   ],
   "source": [
    "cur.execute('SELECT id,symbol,name FROM stocks')\n",
    "records = cur.fetchall()\n",
    "print(records[0])"
   ]
  },
  {
   "cell_type": "code",
   "execution_count": 29,
   "metadata": {},
   "outputs": [],
   "source": [
    "insert_script = 'insert into stocks (id,symbol,name) values (%s,%s,%s)'\n",
    "insert_value = records\n",
    "for items in insert_value:\n",
    "    cur2.execute(insert_script, items)\n",
    "conn2.commit()"
   ]
  },
  {
   "cell_type": "code",
   "execution_count": null,
   "metadata": {},
   "outputs": [],
   "source": [
    "#insert tags"
   ]
  },
  {
   "cell_type": "code",
   "execution_count": 30,
   "metadata": {},
   "outputs": [
    {
     "name": "stdout",
     "output_type": "stream",
     "text": [
      "(1, 1, None)\n"
     ]
    }
   ],
   "source": [
    "cur.execute('SELECT id,tag_id,stock_id FROM tags')\n",
    "records = cur.fetchall()\n",
    "print(records[0])"
   ]
  },
  {
   "cell_type": "code",
   "execution_count": null,
   "metadata": {},
   "outputs": [],
   "source": [
    "insert_script = 'insert into tags (id,tag_id,stock_id) values (%s,%s,%s)'\n",
    "insert_value = records\n",
    "for items in insert_value:\n",
    "    cur2.execute(insert_script, items)\n",
    "conn2.commit()"
   ]
  },
  {
   "cell_type": "code",
   "execution_count": 35,
   "metadata": {},
   "outputs": [],
   "source": [
    "cur.close()\n",
    "conn.close()"
   ]
  },
  {
   "cell_type": "code",
   "execution_count": 62,
   "metadata": {},
   "outputs": [],
   "source": [
    "cur2.close()\n",
    "conn2.close()"
   ]
  }
 ],
 "metadata": {
  "kernelspec": {
   "display_name": "Python 3",
   "language": "python",
   "name": "python3"
  },
  "language_info": {
   "codemirror_mode": {
    "name": "ipython",
    "version": 3
   },
   "file_extension": ".py",
   "mimetype": "text/x-python",
   "name": "python",
   "nbconvert_exporter": "python",
   "pygments_lexer": "ipython3",
   "version": "3.8.15 (default, Oct 12 2022, 19:15:16) \n[GCC 11.2.0]"
  },
  "orig_nbformat": 4,
  "vscode": {
   "interpreter": {
    "hash": "5b3ded1ccb95c1d9bd405e7b823d9e85424cde40fbb5985eb47e999ef50e15b4"
   }
  }
 },
 "nbformat": 4,
 "nbformat_minor": 2
}
